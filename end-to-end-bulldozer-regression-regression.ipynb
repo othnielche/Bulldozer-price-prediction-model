{
 "cells": [
  {
   "cell_type": "markdown",
   "metadata": {},
   "source": [
    "# Predicting the Sale Price of Bulldozers using Machine Learning \n",
    "\n",
    "In this notebook, I am going to go through a machine learning project with the goal with of predicting the sale proce of bulldozers.\n",
    "\n",
    "## 1. Problem Definition \n",
    "\n",
    "> How well can we predict the future sale price of a bulldozer, given its characteristics and previous examples of how much similar bulldozers have been sold for \n",
    "## 2. Data \n",
    "\n",
    "The data is downloaded from the Kaggle Bluebook for Bulldozers competition:\n",
    "\n",
    "https://www.kaggle.com/c/bluebook-for-bulldozers/data\n",
    "There are 3 main datasets:\n",
    "\n",
    "* Train.csv is the training set, which contains data through the end of 2011.\n",
    "\n",
    "* Valid.csv is the validation set, which contains data from January 1, 2012 - April 30, 2012 You make predictions on this set throughout the majority of the competition. Your score on this set is used to create the public leaderboard.\n",
    "\n",
    "* Test.csv is the test set, which won't be released until the last week of the competition. It contains data from May 1, 2012 - November 2012. Your score on the test set determines your final rank for the competetion.\n",
    "\n",
    "## 3. Evaluation\n",
    "\n",
    "The evaluation metric for this project will be the RMSLE (root mean squared log erro) between the actual and predicted auction prices.\n",
    "\n",
    "For more on the evaluation of this project check:\n",
    "https://www.kaggle.com/c/bluebook-for-bulldozers/overview/evaluation\n",
    "\n",
    "The goal for this project is to build a model which minimises the RMSLE.\n",
    "\n",
    "## 4. Features\n",
    "\n",
    "kaggle provides a data dictionary detailing all the features of the data set:\n",
    "https://docs.google.com/spreadsheets/d/1bws9wk7fCS2K6HTJzomYpazqk12XrxYwukh49iiaYQc/edit?usp=sharing\n"
   ]
  },
  {
   "cell_type": "code",
   "execution_count": null,
   "metadata": {},
   "outputs": [],
   "source": [
    "import numpy as np"
   ]
  }
 ],
 "metadata": {
  "kernelspec": {
   "display_name": "base",
   "language": "python",
   "name": "python3"
  },
  "language_info": {
   "name": "python",
   "version": "3.11.5"
  }
 },
 "nbformat": 4,
 "nbformat_minor": 2
}
